{
 "cells": [
  {
   "cell_type": "markdown",
   "id": "27f6286d",
   "metadata": {},
   "source": [
    "# Analysis of Yelp Business Intelligence Data\n",
    "     By Rupinder Kaur"
   ]
  },
  {
   "cell_type": "markdown",
   "id": "0d0b4538",
   "metadata": {},
   "source": [
    "I will analyze Yelp's business, reviews and user data from [Kaggle](https://www.kaggle.com/yelp-dataset/yelp-dataset#yelp_academic_dataset_user.json) for this project. I uploaded the dataset to AWS'S S3 bucket so it can be loaded as Spark dataframe for analysis."
   ]
  },
  {
   "cell_type": "markdown",
   "id": "57b64b53",
   "metadata": {},
   "source": [
    "## I. Installation and Initial Setup"
   ]
  },
  {
   "cell_type": "code",
   "execution_count": 1,
   "id": "35582501",
   "metadata": {},
   "outputs": [
    {
     "data": {
      "application/vnd.jupyter.widget-view+json": {
       "model_id": "3b3933ef7e024750a372bed98b48bf2d",
       "version_major": 2,
       "version_minor": 0
      },
      "text/plain": [
       "VBox()"
      ]
     },
     "metadata": {},
     "output_type": "display_data"
    },
    {
     "name": "stdout",
     "output_type": "stream",
     "text": [
      "Starting Spark application\n"
     ]
    },
    {
     "data": {
      "text/html": [
       "<table>\n",
       "<tr><th>ID</th><th>YARN Application ID</th><th>Kind</th><th>State</th><th>Spark UI</th><th>Driver log</th><th>Current session?</th></tr><tr><td>1</td><td>application_1638491651227_0002</td><td>pyspark</td><td>idle</td><td><a target=\"_blank\" href=\"http://ip-172-31-32-23.us-east-2.compute.internal:20888/proxy/application_1638491651227_0002/\">Link</a></td><td><a target=\"_blank\" href=\"http://ip-172-31-38-180.us-east-2.compute.internal:8042/node/containerlogs/container_1638491651227_0002_01_000001/livy\">Link</a></td><td>✔</td></tr></table>"
      ],
      "text/plain": [
       "<IPython.core.display.HTML object>"
      ]
     },
     "metadata": {},
     "output_type": "display_data"
    },
    {
     "data": {
      "application/vnd.jupyter.widget-view+json": {
       "model_id": "",
       "version_major": 2,
       "version_minor": 0
      },
      "text/plain": [
       "FloatProgress(value=0.0, bar_style='info', description='Progress:', layout=Layout(height='25px', width='50%'),…"
      ]
     },
     "metadata": {},
     "output_type": "display_data"
    },
    {
     "name": "stdout",
     "output_type": "stream",
     "text": [
      "SparkSession available as 'spark'.\n"
     ]
    },
    {
     "data": {
      "application/vnd.jupyter.widget-view+json": {
       "model_id": "",
       "version_major": 2,
       "version_minor": 0
      },
      "text/plain": [
       "FloatProgress(value=0.0, bar_style='info', description='Progress:', layout=Layout(height='25px', width='50%'),…"
      ]
     },
     "metadata": {},
     "output_type": "display_data"
    },
    {
     "name": "stdout",
     "output_type": "stream",
     "text": [
      "Package                    Version  \n",
      "-------------------------- ---------\n",
      "beautifulsoup4             4.9.1    \n",
      "boto                       2.49.0   \n",
      "click                      7.1.2    \n",
      "jmespath                   0.10.0   \n",
      "joblib                     0.16.0   \n",
      "lxml                       4.5.2    \n",
      "mysqlclient                1.4.2    \n",
      "nltk                       3.5      \n",
      "nose                       1.3.4    \n",
      "numpy                      1.16.5   \n",
      "pip                        9.0.1    \n",
      "py-dateutil                2.2      \n",
      "python37-sagemaker-pyspark 1.4.0    \n",
      "pytz                       2020.1   \n",
      "PyYAML                     5.3.1    \n",
      "regex                      2020.7.14\n",
      "setuptools                 28.8.0   \n",
      "six                        1.13.0   \n",
      "soupsieve                  1.9.5    \n",
      "tqdm                       4.48.2   \n",
      "wheel                      0.29.0   \n",
      "windmill                   1.6"
     ]
    }
   ],
   "source": [
    "# available packages\n",
    "sc.list_packages()"
   ]
  },
  {
   "cell_type": "code",
   "execution_count": 2,
   "id": "7143cc11",
   "metadata": {},
   "outputs": [
    {
     "data": {
      "application/vnd.jupyter.widget-view+json": {
       "model_id": "7665a70bf57744468229a5970449fce3",
       "version_major": 2,
       "version_minor": 0
      },
      "text/plain": [
       "VBox()"
      ]
     },
     "metadata": {},
     "output_type": "display_data"
    },
    {
     "data": {
      "application/vnd.jupyter.widget-view+json": {
       "model_id": "",
       "version_major": 2,
       "version_minor": 0
      },
      "text/plain": [
       "FloatProgress(value=0.0, bar_style='info', description='Progress:', layout=Layout(height='25px', width='50%'),…"
      ]
     },
     "metadata": {},
     "output_type": "display_data"
    },
    {
     "name": "stdout",
     "output_type": "stream",
     "text": [
      "Collecting pandas==1.0.3\n",
      "  Using cached https://files.pythonhosted.org/packages/4a/6a/94b219b8ea0f2d580169e85ed1edc0163743f55aaeca8a44c2e8fc1e344e/pandas-1.0.3-cp37-cp37m-manylinux1_x86_64.whl\n",
      "Requirement already satisfied: pytz>=2017.2 in /usr/local/lib/python3.7/site-packages (from pandas==1.0.3)\n",
      "Requirement already satisfied: numpy>=1.13.3 in /usr/local/lib64/python3.7/site-packages (from pandas==1.0.3)\n",
      "Collecting python-dateutil>=2.6.1 (from pandas==1.0.3)\n",
      "  Using cached https://files.pythonhosted.org/packages/36/7a/87837f39d0296e723bb9b62bbb257d0355c7f6128853c78955f57342a56d/python_dateutil-2.8.2-py2.py3-none-any.whl\n",
      "Requirement already satisfied: six>=1.5 in /usr/local/lib/python3.7/site-packages (from python-dateutil>=2.6.1->pandas==1.0.3)\n",
      "Installing collected packages: python-dateutil, pandas\n",
      "Successfully installed pandas-1.0.3 python-dateutil-2.8.2\n",
      "\n",
      "Collecting matplotlib==3.2.1\n",
      "  Using cached https://files.pythonhosted.org/packages/b2/c2/71fcf957710f3ba1f09088b35776a799ba7dd95f7c2b195ec800933b276b/matplotlib-3.2.1-cp37-cp37m-manylinux1_x86_64.whl\n",
      "Requirement already satisfied: python-dateutil>=2.1 in /mnt/tmp/1638493636854-0/lib/python3.7/site-packages (from matplotlib==3.2.1)\n",
      "Collecting pyparsing!=2.0.4,!=2.1.2,!=2.1.6,>=2.0.1 (from matplotlib==3.2.1)\n",
      "  Using cached https://files.pythonhosted.org/packages/a0/34/895006117f6fce0b4de045c87e154ee4a20c68ec0a4c9a36d900888fb6bc/pyparsing-3.0.6-py3-none-any.whl\n",
      "Collecting cycler>=0.10 (from matplotlib==3.2.1)\n",
      "  Using cached https://files.pythonhosted.org/packages/5c/f9/695d6bedebd747e5eb0fe8fad57b72fdf25411273a39791cde838d5a8f51/cycler-0.11.0-py3-none-any.whl\n",
      "Requirement already satisfied: numpy>=1.11 in /usr/local/lib64/python3.7/site-packages (from matplotlib==3.2.1)\n",
      "Collecting kiwisolver>=1.0.1 (from matplotlib==3.2.1)\n",
      "  Using cached https://files.pythonhosted.org/packages/09/6b/6e567cb2e86d4e5939a9233f8734e26021b6a9c1bc4b1edccba236a84cc2/kiwisolver-1.3.2-cp37-cp37m-manylinux_2_5_x86_64.manylinux1_x86_64.whl\n",
      "Requirement already satisfied: six>=1.5 in /usr/local/lib/python3.7/site-packages (from python-dateutil>=2.1->matplotlib==3.2.1)\n",
      "Installing collected packages: pyparsing, cycler, kiwisolver, matplotlib\n",
      "Successfully installed cycler-0.11.0 kiwisolver-1.3.2 matplotlib-3.2.1 pyparsing-3.0.6\n",
      "\n",
      "Collecting scipy==1.7.0\n",
      "  Using cached https://files.pythonhosted.org/packages/b2/85/b00f13b52d079b5625e1a12330fc6453c947a482ff667a907c7bc60ed220/scipy-1.7.0-cp37-cp37m-manylinux_2_5_x86_64.manylinux1_x86_64.whl\n",
      "Requirement already satisfied: numpy<1.23.0,>=1.16.5 in /usr/local/lib64/python3.7/site-packages (from scipy==1.7.0)\n",
      "Installing collected packages: scipy\n",
      "Successfully installed scipy-1.7.0\n",
      "\n",
      "Collecting seaborn==0.11.2\n",
      "  Using cached https://files.pythonhosted.org/packages/10/5b/0479d7d845b5ba410ca702ffcd7f2cd95a14a4dfff1fde2637802b258b9b/seaborn-0.11.2-py3-none-any.whl\n",
      "Requirement already satisfied: numpy>=1.15 in /usr/local/lib64/python3.7/site-packages (from seaborn==0.11.2)\n",
      "Requirement already satisfied: scipy>=1.0 in /mnt/tmp/1638493636854-0/lib/python3.7/site-packages (from seaborn==0.11.2)\n",
      "Requirement already satisfied: matplotlib>=2.2 in /mnt/tmp/1638493636854-0/lib/python3.7/site-packages (from seaborn==0.11.2)\n",
      "Requirement already satisfied: pandas>=0.23 in /mnt/tmp/1638493636854-0/lib/python3.7/site-packages (from seaborn==0.11.2)\n",
      "Requirement already satisfied: python-dateutil>=2.1 in /mnt/tmp/1638493636854-0/lib/python3.7/site-packages (from matplotlib>=2.2->seaborn==0.11.2)\n",
      "Requirement already satisfied: pyparsing!=2.0.4,!=2.1.2,!=2.1.6,>=2.0.1 in /mnt/tmp/1638493636854-0/lib/python3.7/site-packages (from matplotlib>=2.2->seaborn==0.11.2)\n",
      "Requirement already satisfied: cycler>=0.10 in /mnt/tmp/1638493636854-0/lib/python3.7/site-packages (from matplotlib>=2.2->seaborn==0.11.2)\n",
      "Requirement already satisfied: kiwisolver>=1.0.1 in /mnt/tmp/1638493636854-0/lib/python3.7/site-packages (from matplotlib>=2.2->seaborn==0.11.2)\n",
      "Requirement already satisfied: pytz>=2017.2 in /usr/local/lib/python3.7/site-packages (from pandas>=0.23->seaborn==0.11.2)\n",
      "Requirement already satisfied: six>=1.5 in /usr/local/lib/python3.7/site-packages (from python-dateutil>=2.1->matplotlib>=2.2->seaborn==0.11.2)\n",
      "Installing collected packages: seaborn\n",
      "Successfully installed seaborn-0.11.2"
     ]
    }
   ],
   "source": [
    "# installing pandas, matplotlib, scipy and seaborn\n",
    "sc.install_pypi_package(\"pandas==1.0.3\")\n",
    "sc.install_pypi_package(\"matplotlib==3.2.1\")\n",
    "sc.install_pypi_package(\"scipy==1.7.0\")\n",
    "sc.install_pypi_package(\"seaborn==0.11.2\")"
   ]
  },
  {
   "cell_type": "markdown",
   "id": "d1252cbe",
   "metadata": {},
   "source": [
    "### Importing the Packages"
   ]
  },
  {
   "cell_type": "code",
   "execution_count": 3,
   "id": "26f62e20",
   "metadata": {},
   "outputs": [
    {
     "data": {
      "application/vnd.jupyter.widget-view+json": {
       "model_id": "240f2f1d457e4463b94859369370b2ae",
       "version_major": 2,
       "version_minor": 0
      },
      "text/plain": [
       "VBox()"
      ]
     },
     "metadata": {},
     "output_type": "display_data"
    },
    {
     "data": {
      "application/vnd.jupyter.widget-view+json": {
       "model_id": "",
       "version_major": 2,
       "version_minor": 0
      },
      "text/plain": [
       "FloatProgress(value=0.0, bar_style='info', description='Progress:', layout=Layout(height='25px', width='50%'),…"
      ]
     },
     "metadata": {},
     "output_type": "display_data"
    }
   ],
   "source": [
    "# importing the required packages for analysis\n",
    "import pandas as pd\n",
    "import numpy as np\n",
    "import seaborn as sns\n",
    "import matplotlib.pyplot as plt\n",
    "import pyspark.sql.functions as F"
   ]
  },
  {
   "cell_type": "markdown",
   "id": "52d161ef",
   "metadata": {},
   "source": [
    "### Loading Yelp's Business Data"
   ]
  },
  {
   "cell_type": "code",
   "execution_count": 4,
   "id": "337069f7",
   "metadata": {},
   "outputs": [
    {
     "data": {
      "application/vnd.jupyter.widget-view+json": {
       "model_id": "578a78e62cb246cb893ac6274af002a0",
       "version_major": 2,
       "version_minor": 0
      },
      "text/plain": [
       "VBox()"
      ]
     },
     "metadata": {},
     "output_type": "display_data"
    },
    {
     "data": {
      "application/vnd.jupyter.widget-view+json": {
       "model_id": "",
       "version_major": 2,
       "version_minor": 0
      },
      "text/plain": [
       "FloatProgress(value=0.0, bar_style='info', description='Progress:', layout=Layout(height='25px', width='50%'),…"
      ]
     },
     "metadata": {},
     "output_type": "display_data"
    }
   ],
   "source": [
    "# Loading Yelp's dataset that contains information on various businesses\n",
    "business = spark.read.json(\"s3://sta9760-spark-yelp-dataset/Yelp_Data/yelp_academic_dataset_business.json\")"
   ]
  },
  {
   "cell_type": "code",
   "execution_count": 5,
   "id": "4692ab51",
   "metadata": {},
   "outputs": [
    {
     "data": {
      "application/vnd.jupyter.widget-view+json": {
       "model_id": "d1bd0f9778204028892d901f0b6cadb4",
       "version_major": 2,
       "version_minor": 0
      },
      "text/plain": [
       "VBox()"
      ]
     },
     "metadata": {},
     "output_type": "display_data"
    },
    {
     "data": {
      "application/vnd.jupyter.widget-view+json": {
       "model_id": "",
       "version_major": 2,
       "version_minor": 0
      },
      "text/plain": [
       "FloatProgress(value=0.0, bar_style='info', description='Progress:', layout=Layout(height='25px', width='50%'),…"
      ]
     },
     "metadata": {},
     "output_type": "display_data"
    },
    {
     "name": "stdout",
     "output_type": "stream",
     "text": [
      "Columns: 14 | Rows: 160585"
     ]
    }
   ],
   "source": [
    "# number of columns and rows in the dataframe\n",
    "print(f\"Columns: {len(business.columns)} | Rows: {business.count()}\")"
   ]
  },
  {
   "cell_type": "code",
   "execution_count": 6,
   "id": "0854ae57",
   "metadata": {},
   "outputs": [
    {
     "data": {
      "application/vnd.jupyter.widget-view+json": {
       "model_id": "0558baa6383644d18d1bc82085b35ceb",
       "version_major": 2,
       "version_minor": 0
      },
      "text/plain": [
       "VBox()"
      ]
     },
     "metadata": {},
     "output_type": "display_data"
    },
    {
     "data": {
      "application/vnd.jupyter.widget-view+json": {
       "model_id": "",
       "version_major": 2,
       "version_minor": 0
      },
      "text/plain": [
       "FloatProgress(value=0.0, bar_style='info', description='Progress:', layout=Layout(height='25px', width='50%'),…"
      ]
     },
     "metadata": {},
     "output_type": "display_data"
    },
    {
     "name": "stdout",
     "output_type": "stream",
     "text": [
      "root\n",
      " |-- address: string (nullable = true)\n",
      " |-- attributes: struct (nullable = true)\n",
      " |    |-- AcceptsInsurance: string (nullable = true)\n",
      " |    |-- AgesAllowed: string (nullable = true)\n",
      " |    |-- Alcohol: string (nullable = true)\n",
      " |    |-- Ambience: string (nullable = true)\n",
      " |    |-- BYOB: string (nullable = true)\n",
      " |    |-- BYOBCorkage: string (nullable = true)\n",
      " |    |-- BestNights: string (nullable = true)\n",
      " |    |-- BikeParking: string (nullable = true)\n",
      " |    |-- BusinessAcceptsBitcoin: string (nullable = true)\n",
      " |    |-- BusinessAcceptsCreditCards: string (nullable = true)\n",
      " |    |-- BusinessParking: string (nullable = true)\n",
      " |    |-- ByAppointmentOnly: string (nullable = true)\n",
      " |    |-- Caters: string (nullable = true)\n",
      " |    |-- CoatCheck: string (nullable = true)\n",
      " |    |-- Corkage: string (nullable = true)\n",
      " |    |-- DietaryRestrictions: string (nullable = true)\n",
      " |    |-- DogsAllowed: string (nullable = true)\n",
      " |    |-- DriveThru: string (nullable = true)\n",
      " |    |-- GoodForDancing: string (nullable = true)\n",
      " |    |-- GoodForKids: string (nullable = true)\n",
      " |    |-- GoodForMeal: string (nullable = true)\n",
      " |    |-- HairSpecializesIn: string (nullable = true)\n",
      " |    |-- HappyHour: string (nullable = true)\n",
      " |    |-- HasTV: string (nullable = true)\n",
      " |    |-- Music: string (nullable = true)\n",
      " |    |-- NoiseLevel: string (nullable = true)\n",
      " |    |-- Open24Hours: string (nullable = true)\n",
      " |    |-- OutdoorSeating: string (nullable = true)\n",
      " |    |-- RestaurantsAttire: string (nullable = true)\n",
      " |    |-- RestaurantsCounterService: string (nullable = true)\n",
      " |    |-- RestaurantsDelivery: string (nullable = true)\n",
      " |    |-- RestaurantsGoodForGroups: string (nullable = true)\n",
      " |    |-- RestaurantsPriceRange2: string (nullable = true)\n",
      " |    |-- RestaurantsReservations: string (nullable = true)\n",
      " |    |-- RestaurantsTableService: string (nullable = true)\n",
      " |    |-- RestaurantsTakeOut: string (nullable = true)\n",
      " |    |-- Smoking: string (nullable = true)\n",
      " |    |-- WheelchairAccessible: string (nullable = true)\n",
      " |    |-- WiFi: string (nullable = true)\n",
      " |-- business_id: string (nullable = true)\n",
      " |-- categories: string (nullable = true)\n",
      " |-- city: string (nullable = true)\n",
      " |-- hours: struct (nullable = true)\n",
      " |    |-- Friday: string (nullable = true)\n",
      " |    |-- Monday: string (nullable = true)\n",
      " |    |-- Saturday: string (nullable = true)\n",
      " |    |-- Sunday: string (nullable = true)\n",
      " |    |-- Thursday: string (nullable = true)\n",
      " |    |-- Tuesday: string (nullable = true)\n",
      " |    |-- Wednesday: string (nullable = true)\n",
      " |-- is_open: long (nullable = true)\n",
      " |-- latitude: double (nullable = true)\n",
      " |-- longitude: double (nullable = true)\n",
      " |-- name: string (nullable = true)\n",
      " |-- postal_code: string (nullable = true)\n",
      " |-- review_count: long (nullable = true)\n",
      " |-- stars: double (nullable = true)\n",
      " |-- state: string (nullable = true)"
     ]
    }
   ],
   "source": [
    "# dataframe schema\n",
    "business.printSchema()"
   ]
  },
  {
   "cell_type": "code",
   "execution_count": 7,
   "id": "a1d6b049",
   "metadata": {},
   "outputs": [
    {
     "data": {
      "application/vnd.jupyter.widget-view+json": {
       "model_id": "ea7d8e9b892c492f8eef880676e47964",
       "version_major": 2,
       "version_minor": 0
      },
      "text/plain": [
       "VBox()"
      ]
     },
     "metadata": {},
     "output_type": "display_data"
    },
    {
     "data": {
      "application/vnd.jupyter.widget-view+json": {
       "model_id": "",
       "version_major": 2,
       "version_minor": 0
      },
      "text/plain": [
       "FloatProgress(value=0.0, bar_style='info', description='Progress:', layout=Layout(height='25px', width='50%'),…"
      ]
     },
     "metadata": {},
     "output_type": "display_data"
    },
    {
     "name": "stdout",
     "output_type": "stream",
     "text": [
      "+--------------------+--------------------+-----------+-----+-----+--------------------+\n",
      "|         business_id|                name|       city|state|stars|          categories|\n",
      "+--------------------+--------------------+-----------+-----+-----+--------------------+\n",
      "|6iYb2HFDywm3zjuRg...| Oskar Blues Taproom|    Boulder|   CO|  4.0|Gastropubs, Food,...|\n",
      "|tCbdrRPZA0oiIYSmH...|Flying Elephants ...|   Portland|   OR|  4.0|Salad, Soup, Sand...|\n",
      "|bvN78flM8NLprQ1a1...|      The Reclaimory|   Portland|   OR|  4.5|Antiques, Fashion...|\n",
      "|oaepsyvc0J17qwi8c...|         Great Clips|Orange City|   FL|  3.0|Beauty & Spas, Ha...|\n",
      "|PE9uqAjdw0E4-8mjG...|   Crossfit Terminus|    Atlanta|   GA|  4.0|Gyms, Active Life...|\n",
      "+--------------------+--------------------+-----------+-----+-----+--------------------+\n",
      "only showing top 5 rows"
     ]
    }
   ],
   "source": [
    "# displaying the first 5 rows with columns: business_id, name, city, state, stars, categories\n",
    "business.select(\"business_id\", \"name\", \"city\", \"state\", \"stars\",\"categories\").show(5)"
   ]
  },
  {
   "cell_type": "markdown",
   "id": "46afeded",
   "metadata": {},
   "source": [
    "##  II. Analyzing the Column, \"Categories\", from Yelp's Business Data"
   ]
  },
  {
   "cell_type": "markdown",
   "id": "84929c25",
   "metadata": {},
   "source": [
    "I will be answering the following questions in this section: \n",
    "> How many unique categories are represented in this dataset?\n",
    "\n",
    "> What are the top categories?\n",
    " "
   ]
  },
  {
   "cell_type": "markdown",
   "id": "9a326002",
   "metadata": {},
   "source": [
    "### Association Table"
   ]
  },
  {
   "cell_type": "code",
   "execution_count": 8,
   "id": "9380a339",
   "metadata": {},
   "outputs": [
    {
     "data": {
      "application/vnd.jupyter.widget-view+json": {
       "model_id": "b1fc73330dfd4fda99d43c275cbbddcf",
       "version_major": 2,
       "version_minor": 0
      },
      "text/plain": [
       "VBox()"
      ]
     },
     "metadata": {},
     "output_type": "display_data"
    },
    {
     "data": {
      "application/vnd.jupyter.widget-view+json": {
       "model_id": "",
       "version_major": 2,
       "version_minor": 0
      },
      "text/plain": [
       "FloatProgress(value=0.0, bar_style='info', description='Progress:', layout=Layout(height='25px', width='50%'),…"
      ]
     },
     "metadata": {},
     "output_type": "display_data"
    }
   ],
   "source": [
    "# Since the categories are given in a list for each business,we will need to use explode and split to separate the elements\n",
    "business_exploded = business.withColumn('category', F.explode(F.split('categories', \",\")))"
   ]
  },
  {
   "cell_type": "code",
   "execution_count": 9,
   "id": "f3819bc8",
   "metadata": {},
   "outputs": [
    {
     "data": {
      "application/vnd.jupyter.widget-view+json": {
       "model_id": "03100ff5e204469c9357553ba1288df4",
       "version_major": 2,
       "version_minor": 0
      },
      "text/plain": [
       "VBox()"
      ]
     },
     "metadata": {},
     "output_type": "display_data"
    },
    {
     "data": {
      "application/vnd.jupyter.widget-view+json": {
       "model_id": "",
       "version_major": 2,
       "version_minor": 0
      },
      "text/plain": [
       "FloatProgress(value=0.0, bar_style='info', description='Progress:', layout=Layout(height='25px', width='50%'),…"
      ]
     },
     "metadata": {},
     "output_type": "display_data"
    },
    {
     "name": "stdout",
     "output_type": "stream",
     "text": [
      "+--------------------+-------------+\n",
      "|         business_id|     category|\n",
      "+--------------------+-------------+\n",
      "|6iYb2HFDywm3zjuRg...|   Gastropubs|\n",
      "|6iYb2HFDywm3zjuRg...|         Food|\n",
      "|6iYb2HFDywm3zjuRg...| Beer Gardens|\n",
      "|6iYb2HFDywm3zjuRg...|  Restaurants|\n",
      "|6iYb2HFDywm3zjuRg...|         Bars|\n",
      "+--------------------+-------------+\n",
      "only showing top 5 rows"
     ]
    }
   ],
   "source": [
    "# displaying two columns of the exploded dataset\n",
    " # We can see that categories have been separated\n",
    "business_exploded.select('business_id', 'category').show(5)"
   ]
  },
  {
   "cell_type": "markdown",
   "id": "679a81ab",
   "metadata": {},
   "source": [
    "### Total Unique Categories"
   ]
  },
  {
   "cell_type": "code",
   "execution_count": 10,
   "id": "54d16fa7",
   "metadata": {},
   "outputs": [
    {
     "data": {
      "application/vnd.jupyter.widget-view+json": {
       "model_id": "b315a91804d54ba79699ce7a073d1590",
       "version_major": 2,
       "version_minor": 0
      },
      "text/plain": [
       "VBox()"
      ]
     },
     "metadata": {},
     "output_type": "display_data"
    },
    {
     "data": {
      "application/vnd.jupyter.widget-view+json": {
       "model_id": "",
       "version_major": 2,
       "version_minor": 0
      },
      "text/plain": [
       "FloatProgress(value=0.0, bar_style='info', description='Progress:', layout=Layout(height='25px', width='50%'),…"
      ]
     },
     "metadata": {},
     "output_type": "display_data"
    },
    {
     "name": "stdout",
     "output_type": "stream",
     "text": [
      "2487"
     ]
    }
   ],
   "source": [
    "# There are 2487 unique categories for business \n",
    "business_exploded.select(\"category\").distinct().count()"
   ]
  },
  {
   "cell_type": "markdown",
   "id": "15e06068",
   "metadata": {},
   "source": [
    "### Top Categories "
   ]
  },
  {
   "cell_type": "markdown",
   "id": "ed1b01ff",
   "metadata": {},
   "source": [
    "#### Number of Businesses per Category"
   ]
  },
  {
   "cell_type": "code",
   "execution_count": 11,
   "id": "eeed6886",
   "metadata": {},
   "outputs": [
    {
     "data": {
      "application/vnd.jupyter.widget-view+json": {
       "model_id": "9e13cf2ba15b45d685c2a94724a777dc",
       "version_major": 2,
       "version_minor": 0
      },
      "text/plain": [
       "VBox()"
      ]
     },
     "metadata": {},
     "output_type": "display_data"
    },
    {
     "data": {
      "application/vnd.jupyter.widget-view+json": {
       "model_id": "",
       "version_major": 2,
       "version_minor": 0
      },
      "text/plain": [
       "FloatProgress(value=0.0, bar_style='info', description='Progress:', layout=Layout(height='25px', width='50%'),…"
      ]
     },
     "metadata": {},
     "output_type": "display_data"
    },
    {
     "name": "stdout",
     "output_type": "stream",
     "text": [
      "+--------------------+-----+\n",
      "|            category|count|\n",
      "+--------------------+-----+\n",
      "|      Dermatologists|   68|\n",
      "|      Paddleboarding|   12|\n",
      "|               Tires| 1456|\n",
      "|    Historical Tours|   60|\n",
      "|         Hobby Shops|  135|\n",
      "|    Military Surplus|   11|\n",
      "| Food Safety Trai...|    2|\n",
      "|          Bubble Tea|  184|\n",
      "|             Embassy|    3|\n",
      "|            Handyman|   87|\n",
      "|            Macarons|   50|\n",
      "|             Propane|   83|\n",
      "|             Tanning|  147|\n",
      "|  Convenience Stores| 1340|\n",
      "|            Japanese| 2039|\n",
      "|         Car Dealers| 1013|\n",
      "|             Lawyers|  422|\n",
      "|             Rolfing|   28|\n",
      "|        IV Hydration|   47|\n",
      "|      Aerial Fitness|    2|\n",
      "+--------------------+-----+\n",
      "only showing top 20 rows"
     ]
    }
   ],
   "source": [
    "# Count businesses per category-> 68 businesses that fall into dermatologists' category etc.\n",
    "business_grby = business_exploded.groupby('category').count()\n",
    "business_grby.show(20)"
   ]
  },
  {
   "cell_type": "markdown",
   "id": "cce4ff8d",
   "metadata": {},
   "source": [
    "#### Bar Chart of the Top Categories"
   ]
  },
  {
   "cell_type": "code",
   "execution_count": 12,
   "id": "56cbd9b7",
   "metadata": {},
   "outputs": [
    {
     "data": {
      "application/vnd.jupyter.widget-view+json": {
       "model_id": "05c622186e434d1c9e25a915b4fc5756",
       "version_major": 2,
       "version_minor": 0
      },
      "text/plain": [
       "VBox()"
      ]
     },
     "metadata": {},
     "output_type": "display_data"
    },
    {
     "data": {
      "application/vnd.jupyter.widget-view+json": {
       "model_id": "",
       "version_major": 2,
       "version_minor": 0
      },
      "text/plain": [
       "FloatProgress(value=0.0, bar_style='info', description='Progress:', layout=Layout(height='25px', width='50%'),…"
      ]
     },
     "metadata": {},
     "output_type": "display_data"
    },
    {
     "name": "stdout",
     "output_type": "stream",
     "text": [
      "+-----------------+-----+\n",
      "|         category|count|\n",
      "+-----------------+-----+\n",
      "|      Restaurants|36340|\n",
      "|             Food|22094|\n",
      "|         Shopping|20056|\n",
      "|      Restaurants|14423|\n",
      "|    Home Services|12001|\n",
      "|    Beauty & Spas|11633|\n",
      "| Health & Medical|11390|\n",
      "|        Nightlife| 9808|\n",
      "|   Local Services| 9299|\n",
      "|             Bars| 8914|\n",
      "+-----------------+-----+\n",
      "only showing top 10 rows"
     ]
    }
   ],
   "source": [
    "# sorting the above query for bar chart\n",
    "df_bar = business_grby.orderBy('count', ascending=False)\n",
    "df_bar.show(10)"
   ]
  },
  {
   "cell_type": "code",
   "execution_count": 13,
   "id": "ccaecb4c",
   "metadata": {},
   "outputs": [
    {
     "data": {
      "application/vnd.jupyter.widget-view+json": {
       "model_id": "3f006f1c005d4060aaf10f4821c1dd88",
       "version_major": 2,
       "version_minor": 0
      },
      "text/plain": [
       "VBox()"
      ]
     },
     "metadata": {},
     "output_type": "display_data"
    },
    {
     "data": {
      "application/vnd.jupyter.widget-view+json": {
       "model_id": "",
       "version_major": 2,
       "version_minor": 0
      },
      "text/plain": [
       "FloatProgress(value=0.0, bar_style='info', description='Progress:', layout=Layout(height='25px', width='50%'),…"
      ]
     },
     "metadata": {},
     "output_type": "display_data"
    }
   ],
   "source": [
    "# transforming the above dataframe to pandas dataframe\n",
    "pdf = df_bar.toPandas()\n",
    "# taking only the top 20\n",
    "pdf_20 = pdf[0:20]"
   ]
  },
  {
   "cell_type": "code",
   "execution_count": 14,
   "id": "8b9687ed",
   "metadata": {},
   "outputs": [
    {
     "data": {
      "application/vnd.jupyter.widget-view+json": {
       "model_id": "ff31779bf4254706a5eb8497359d330c",
       "version_major": 2,
       "version_minor": 0
      },
      "text/plain": [
       "VBox()"
      ]
     },
     "metadata": {},
     "output_type": "display_data"
    },
    {
     "data": {
      "application/vnd.jupyter.widget-view+json": {
       "model_id": "",
       "version_major": 2,
       "version_minor": 0
      },
      "text/plain": [
       "FloatProgress(value=0.0, bar_style='info', description='Progress:', layout=Layout(height='25px', width='50%'),…"
      ]
     },
     "metadata": {},
     "output_type": "display_data"
    },
    {
     "data": {
      "image/png": "[encoded data removed]",
      "text/plain": [
       "<IPython.core.display.Image object>"
      ]
     },
     "metadata": {},
     "output_type": "display_data"
    }
   ],
   "source": [
    "plt.figure(figsize = (12,8))\n",
    "\n",
    "ax = sns.barplot(x=\"count\", y=\"category\", data=pdf_20, alpha = 0.5, color = 'b')\n",
    "ax.set_title(\"Top Categories by Business\")\n",
    "ax.set_ylabel(\"Category\")\n",
    "plt.tight_layout()\n",
    "plt.show()\n",
    "\n",
    "%matplot plt"
   ]
  },
  {
   "cell_type": "markdown",
   "id": "20a9d6b1",
   "metadata": {},
   "source": [
    "## III. Do Yelp Reviews Skew Negative?"
   ]
  },
  {
   "cell_type": "markdown",
   "id": "f55c8bc5",
   "metadata": {},
   "source": [
    "In this section, I will be checking the following:\n",
    "> Are the people who left written reviews more dissatisfied/ satisfied per actual business ratings? "
   ]
  },
  {
   "cell_type": "markdown",
   "id": "1938aa12",
   "metadata": {},
   "source": [
    "### Loading Yelp's Review Data"
   ]
  },
  {
   "cell_type": "code",
   "execution_count": 15,
   "id": "8fb3f99a",
   "metadata": {},
   "outputs": [
    {
     "data": {
      "application/vnd.jupyter.widget-view+json": {
       "model_id": "312885c813ca4f5783520b804353c692",
       "version_major": 2,
       "version_minor": 0
      },
      "text/plain": [
       "VBox()"
      ]
     },
     "metadata": {},
     "output_type": "display_data"
    },
    {
     "data": {
      "application/vnd.jupyter.widget-view+json": {
       "model_id": "",
       "version_major": 2,
       "version_minor": 0
      },
      "text/plain": [
       "FloatProgress(value=0.0, bar_style='info', description='Progress:', layout=Layout(height='25px', width='50%'),…"
      ]
     },
     "metadata": {},
     "output_type": "display_data"
    },
    {
     "name": "stdout",
     "output_type": "stream",
     "text": [
      "root\n",
      " |-- business_id: string (nullable = true)\n",
      " |-- cool: long (nullable = true)\n",
      " |-- date: string (nullable = true)\n",
      " |-- funny: long (nullable = true)\n",
      " |-- review_id: string (nullable = true)\n",
      " |-- stars: double (nullable = true)\n",
      " |-- text: string (nullable = true)\n",
      " |-- useful: long (nullable = true)\n",
      " |-- user_id: string (nullable = true)"
     ]
    }
   ],
   "source": [
    "## loading the review data\n",
    "review = spark.read.json(\"s3://sta9760-spark-yelp-dataset/Yelp_Data/yelp_academic_dataset_review.json\")\n",
    "review.printSchema()"
   ]
  },
  {
   "cell_type": "code",
   "execution_count": 16,
   "id": "8f5bfe99",
   "metadata": {},
   "outputs": [
    {
     "data": {
      "application/vnd.jupyter.widget-view+json": {
       "model_id": "74aadda9fc1645bda571189a45753d30",
       "version_major": 2,
       "version_minor": 0
      },
      "text/plain": [
       "VBox()"
      ]
     },
     "metadata": {},
     "output_type": "display_data"
    },
    {
     "data": {
      "application/vnd.jupyter.widget-view+json": {
       "model_id": "",
       "version_major": 2,
       "version_minor": 0
      },
      "text/plain": [
       "FloatProgress(value=0.0, bar_style='info', description='Progress:', layout=Layout(height='25px', width='50%'),…"
      ]
     },
     "metadata": {},
     "output_type": "display_data"
    },
    {
     "name": "stdout",
     "output_type": "stream",
     "text": [
      "+--------------------+-----+\n",
      "|         business_id|stars|\n",
      "+--------------------+-----+\n",
      "|buF9druCkbuXLX526...|  4.0|\n",
      "|RA4V8pr014UyUbDvI...|  4.0|\n",
      "|_sS2LBIGNT5NQb6PD...|  5.0|\n",
      "|0AzLzHfOJgL7ROwhd...|  2.0|\n",
      "|8zehGz9jnxPqXtOc7...|  4.0|\n",
      "+--------------------+-----+\n",
      "only showing top 5 rows"
     ]
    }
   ],
   "source": [
    "## Displaying two columns of the review dataset\n",
    "review.select(\"business_id\", \"stars\").show(5)"
   ]
  },
  {
   "cell_type": "markdown",
   "id": "459aad79",
   "metadata": {},
   "source": [
    "### Joining the Review Data with Business Data"
   ]
  },
  {
   "cell_type": "code",
   "execution_count": 17,
   "id": "605d7ed2",
   "metadata": {},
   "outputs": [
    {
     "data": {
      "application/vnd.jupyter.widget-view+json": {
       "model_id": "6098d1ad333b474280039fa5026f052e",
       "version_major": 2,
       "version_minor": 0
      },
      "text/plain": [
       "VBox()"
      ]
     },
     "metadata": {},
     "output_type": "display_data"
    },
    {
     "data": {
      "application/vnd.jupyter.widget-view+json": {
       "model_id": "",
       "version_major": 2,
       "version_minor": 0
      },
      "text/plain": [
       "FloatProgress(value=0.0, bar_style='info', description='Progress:', layout=Layout(height='25px', width='50%'),…"
      ]
     },
     "metadata": {},
     "output_type": "display_data"
    },
    {
     "name": "stdout",
     "output_type": "stream",
     "text": [
      "+--------------------+-----------------+\n",
      "|         business_id|       avg(stars)|\n",
      "+--------------------+-----------------+\n",
      "|yHtuNAlYKtRZniO8O...|4.714285714285714|\n",
      "|R0IJhEI-zSJpYT1YN...|3.606060606060606|\n",
      "|uEUweopM30lHcVxjO...|              3.0|\n",
      "|L3WCfeVozu5etMhz4...|              4.2|\n",
      "|XzXcpPCb8Y5huklEN...|4.666666666666667|\n",
      "+--------------------+-----------------+\n",
      "only showing top 5 rows"
     ]
    }
   ],
   "source": [
    "# Average stars per business for the review data\n",
    "avg_re = review.groupby(\"business_id\").avg(\"stars\")\n",
    "avg_re.show(5)"
   ]
  },
  {
   "cell_type": "code",
   "execution_count": 18,
   "id": "99534011",
   "metadata": {},
   "outputs": [
    {
     "data": {
      "application/vnd.jupyter.widget-view+json": {
       "model_id": "56b4b80aa67645ba838324c24025c606",
       "version_major": 2,
       "version_minor": 0
      },
      "text/plain": [
       "VBox()"
      ]
     },
     "metadata": {},
     "output_type": "display_data"
    },
    {
     "data": {
      "application/vnd.jupyter.widget-view+json": {
       "model_id": "",
       "version_major": 2,
       "version_minor": 0
      },
      "text/plain": [
       "FloatProgress(value=0.0, bar_style='info', description='Progress:', layout=Layout(height='25px', width='50%'),…"
      ]
     },
     "metadata": {},
     "output_type": "display_data"
    }
   ],
   "source": [
    "# joining the dataframe that contains average stars per business with Yelp's business data \n",
    "merged_df = avg_re.join(business, avg_re.business_id == business.business_id)"
   ]
  },
  {
   "cell_type": "code",
   "execution_count": 19,
   "id": "f795787b",
   "metadata": {},
   "outputs": [
    {
     "data": {
      "application/vnd.jupyter.widget-view+json": {
       "model_id": "49868ab1a6c44c928eb9a4ffa75f0380",
       "version_major": 2,
       "version_minor": 0
      },
      "text/plain": [
       "VBox()"
      ]
     },
     "metadata": {},
     "output_type": "display_data"
    },
    {
     "data": {
      "application/vnd.jupyter.widget-view+json": {
       "model_id": "",
       "version_major": 2,
       "version_minor": 0
      },
      "text/plain": [
       "FloatProgress(value=0.0, bar_style='info', description='Progress:', layout=Layout(height='25px', width='50%'),…"
      ]
     },
     "metadata": {},
     "output_type": "display_data"
    },
    {
     "name": "stdout",
     "output_type": "stream",
     "text": [
      "+------------------+-----+--------------------+----------+-----+\n",
      "|        avg(stars)|stars|                name|      city|state|\n",
      "+------------------+-----+--------------------+----------+-----+\n",
      "|               5.0|  5.0|    CheraBella Salon|   Peabody|   MA|\n",
      "|             3.875|  4.0|Mezcal Cantina & ...|  Columbus|   OH|\n",
      "|3.8666666666666667|  4.0|    Red Table Coffee|    Austin|   TX|\n",
      "|               5.0|  5.0|          WonderWell|    Austin|   TX|\n",
      "|             3.375|  3.5|         Avalon Oaks|Wilmington|   MA|\n",
      "+------------------+-----+--------------------+----------+-----+\n",
      "only showing top 5 rows"
     ]
    }
   ],
   "source": [
    "# displaying the joined dataset\n",
    "merged_df.select(\"avg(stars)\", \"stars\", \"name\", \"city\", \"state\").show(5)"
   ]
  },
  {
   "cell_type": "markdown",
   "id": "24e8235d",
   "metadata": {},
   "source": [
    "### Difference Between the Star Ratings"
   ]
  },
  {
   "cell_type": "code",
   "execution_count": 20,
   "id": "d3f7796d",
   "metadata": {},
   "outputs": [
    {
     "data": {
      "application/vnd.jupyter.widget-view+json": {
       "model_id": "9620832361be486db2f12463b43b704f",
       "version_major": 2,
       "version_minor": 0
      },
      "text/plain": [
       "VBox()"
      ]
     },
     "metadata": {},
     "output_type": "display_data"
    },
    {
     "data": {
      "application/vnd.jupyter.widget-view+json": {
       "model_id": "",
       "version_major": 2,
       "version_minor": 0
      },
      "text/plain": [
       "FloatProgress(value=0.0, bar_style='info', description='Progress:', layout=Layout(height='25px', width='50%'),…"
      ]
     },
     "metadata": {},
     "output_type": "display_data"
    }
   ],
   "source": [
    "# taking difference of the average stars accumulated from written reviews and the actual star rating of the business\n",
    "diff_df = merged_df.withColumn(\"diff\", (F.col(\"avg(stars)\") - F.col(\"stars\"))/F.col(\"stars\"))\n",
    "                               "
   ]
  },
  {
   "cell_type": "code",
   "execution_count": 21,
   "id": "36d5cf65",
   "metadata": {},
   "outputs": [
    {
     "data": {
      "application/vnd.jupyter.widget-view+json": {
       "model_id": "802efb70291046939ad9e69d0189b088",
       "version_major": 2,
       "version_minor": 0
      },
      "text/plain": [
       "VBox()"
      ]
     },
     "metadata": {},
     "output_type": "display_data"
    },
    {
     "data": {
      "application/vnd.jupyter.widget-view+json": {
       "model_id": "",
       "version_major": 2,
       "version_minor": 0
      },
      "text/plain": [
       "FloatProgress(value=0.0, bar_style='info', description='Progress:', layout=Layout(height='25px', width='50%'),…"
      ]
     },
     "metadata": {},
     "output_type": "display_data"
    },
    {
     "name": "stdout",
     "output_type": "stream",
     "text": [
      "+--------------------+------------------+-----+--------------------+----------+-----+\n",
      "|                diff|        avg(stars)|stars|                name|      city|state|\n",
      "+--------------------+------------------+-----+--------------------+----------+-----+\n",
      "|                 0.0|               5.0|  5.0|    CheraBella Salon|   Peabody|   MA|\n",
      "|            -0.03125|             3.875|  4.0|Mezcal Cantina & ...|  Columbus|   OH|\n",
      "|-0.03333333333333...|3.8666666666666667|  4.0|    Red Table Coffee|    Austin|   TX|\n",
      "|                 0.0|               5.0|  5.0|          WonderWell|    Austin|   TX|\n",
      "|-0.03571428571428571|             3.375|  3.5|         Avalon Oaks|Wilmington|   MA|\n",
      "+--------------------+------------------+-----+--------------------+----------+-----+\n",
      "only showing top 5 rows"
     ]
    }
   ],
   "source": [
    "diff_df.select(\"diff\",\"avg(stars)\", \"stars\", \"name\", \"city\", \"state\").show(5)"
   ]
  },
  {
   "cell_type": "markdown",
   "id": "51fd639f",
   "metadata": {},
   "source": [
    "### Histogram: Difference Between the Star Ratings"
   ]
  },
  {
   "cell_type": "code",
   "execution_count": 22,
   "id": "d5dba1c1",
   "metadata": {
    "scrolled": false
   },
   "outputs": [
    {
     "data": {
      "application/vnd.jupyter.widget-view+json": {
       "model_id": "f686835bf008441ba1f45173d513e092",
       "version_major": 2,
       "version_minor": 0
      },
      "text/plain": [
       "VBox()"
      ]
     },
     "metadata": {},
     "output_type": "display_data"
    },
    {
     "data": {
      "application/vnd.jupyter.widget-view+json": {
       "model_id": "",
       "version_major": 2,
       "version_minor": 0
      },
      "text/plain": [
       "FloatProgress(value=0.0, bar_style='info', description='Progress:', layout=Layout(height='25px', width='50%'),…"
      ]
     },
     "metadata": {},
     "output_type": "display_data"
    },
    {
     "data": {
      "image/png": "[encoded data removed]",
      "text/plain": [
       "<IPython.core.display.Image object>"
      ]
     },
     "metadata": {},
     "output_type": "display_data"
    }
   ],
   "source": [
    "# transforming the above dataframe into pandas dataframe\n",
    "pdf_diff = diff_df.toPandas()\n",
    "\n",
    "# Plotting the difference \n",
    "plt.figure(figsize = (10,6))\n",
    "\n",
    "kwargs = dict(hist_kws={'alpha':.6}, kde_kws={'linewidth':2})\n",
    "\n",
    "sns.distplot(x=pdf_diff[\"diff\"], color=\"orange\", **kwargs)\n",
    "plt.title(\"Skewness in the Star Ratings\")\n",
    "plt.xlabel(\"Difference\")\n",
    "plt.tight_layout()\n",
    "plt.show()\n",
    "\n",
    "%matplot plt\n"
   ]
  },
  {
   "cell_type": "markdown",
   "id": "2dab64a2",
   "metadata": {},
   "source": [
    "As it can be seen from the graph above, most reviewers are in agreement with the actual business ratings. There is no skewness and zero is the center. The reviewers who were more satisfied than the actual business ratings and the reviewers who were more dissatisfied than the actual business ratings, are very similar in numbers, per the distribution plot above.\n",
    "** Please note that when I say reviewers, I am only refering to the ones who left written reviews. "
   ]
  },
  {
   "cell_type": "markdown",
   "id": "aed70273",
   "metadata": {},
   "source": [
    "## IV. Elite Vs. Non-Elites"
   ]
  },
  {
   "cell_type": "markdown",
   "id": "83d82934",
   "metadata": {},
   "source": [
    "In this section, I will be answering the following questions:\n",
    ">  Are reviews from elite users more useful?\n",
    "\n",
    "> Do elite users have higher average star ratings?"
   ]
  },
  {
   "cell_type": "markdown",
   "id": "78207918",
   "metadata": {},
   "source": [
    "### Loading the Yelp's User Data"
   ]
  },
  {
   "cell_type": "code",
   "execution_count": 23,
   "id": "c83bc8fa",
   "metadata": {},
   "outputs": [
    {
     "data": {
      "application/vnd.jupyter.widget-view+json": {
       "model_id": "9ddfde0b58974d75b269ba42e6267935",
       "version_major": 2,
       "version_minor": 0
      },
      "text/plain": [
       "VBox()"
      ]
     },
     "metadata": {},
     "output_type": "display_data"
    },
    {
     "data": {
      "application/vnd.jupyter.widget-view+json": {
       "model_id": "",
       "version_major": 2,
       "version_minor": 0
      },
      "text/plain": [
       "FloatProgress(value=0.0, bar_style='info', description='Progress:', layout=Layout(height='25px', width='50%'),…"
      ]
     },
     "metadata": {},
     "output_type": "display_data"
    },
    {
     "name": "stdout",
     "output_type": "stream",
     "text": [
      "root\n",
      " |-- average_stars: double (nullable = true)\n",
      " |-- compliment_cool: long (nullable = true)\n",
      " |-- compliment_cute: long (nullable = true)\n",
      " |-- compliment_funny: long (nullable = true)\n",
      " |-- compliment_hot: long (nullable = true)\n",
      " |-- compliment_list: long (nullable = true)\n",
      " |-- compliment_more: long (nullable = true)\n",
      " |-- compliment_note: long (nullable = true)\n",
      " |-- compliment_photos: long (nullable = true)\n",
      " |-- compliment_plain: long (nullable = true)\n",
      " |-- compliment_profile: long (nullable = true)\n",
      " |-- compliment_writer: long (nullable = true)\n",
      " |-- cool: long (nullable = true)\n",
      " |-- elite: string (nullable = true)\n",
      " |-- fans: long (nullable = true)\n",
      " |-- friends: string (nullable = true)\n",
      " |-- funny: long (nullable = true)\n",
      " |-- name: string (nullable = true)\n",
      " |-- review_count: long (nullable = true)\n",
      " |-- useful: long (nullable = true)\n",
      " |-- user_id: string (nullable = true)\n",
      " |-- yelping_since: string (nullable = true)"
     ]
    }
   ],
   "source": [
    "# Loading Yelp's dataset that contains information on the users\n",
    "user = spark.read.json(\"s3://sta9760-spark-yelp-dataset/Yelp_Data/yelp_academic_dataset_user.json\")\n",
    "user.printSchema()"
   ]
  },
  {
   "cell_type": "code",
   "execution_count": 24,
   "id": "0d9623a3",
   "metadata": {},
   "outputs": [
    {
     "data": {
      "application/vnd.jupyter.widget-view+json": {
       "model_id": "8f601c537c234f7db4c77c7b8801f4ab",
       "version_major": 2,
       "version_minor": 0
      },
      "text/plain": [
       "VBox()"
      ]
     },
     "metadata": {},
     "output_type": "display_data"
    },
    {
     "data": {
      "application/vnd.jupyter.widget-view+json": {
       "model_id": "",
       "version_major": 2,
       "version_minor": 0
      },
      "text/plain": [
       "FloatProgress(value=0.0, bar_style='info', description='Progress:', layout=Layout(height='25px', width='50%'),…"
      ]
     },
     "metadata": {},
     "output_type": "display_data"
    },
    {
     "name": "stdout",
     "output_type": "stream",
     "text": [
      "2189457"
     ]
    }
   ],
   "source": [
    "user.count()"
   ]
  },
  {
   "cell_type": "code",
   "execution_count": 25,
   "id": "b9675f87",
   "metadata": {},
   "outputs": [
    {
     "data": {
      "application/vnd.jupyter.widget-view+json": {
       "model_id": "be918e5baf804b03a6513b1cdce2f6b5",
       "version_major": 2,
       "version_minor": 0
      },
      "text/plain": [
       "VBox()"
      ]
     },
     "metadata": {},
     "output_type": "display_data"
    },
    {
     "data": {
      "application/vnd.jupyter.widget-view+json": {
       "model_id": "",
       "version_major": 2,
       "version_minor": 0
      },
      "text/plain": [
       "FloatProgress(value=0.0, bar_style='info', description='Progress:', layout=Layout(height='25px', width='50%'),…"
      ]
     },
     "metadata": {},
     "output_type": "display_data"
    },
    {
     "name": "stdout",
     "output_type": "stream",
     "text": [
      "+----------------------+-------------+----------------------------------------------------------------------+\n",
      "|user_id               |average_stars|elite                                                                 |\n",
      "+----------------------+-------------+----------------------------------------------------------------------+\n",
      "|q_QQ5kBBwlCcbL1s4NVK3g|3.85         |2006,2007,2008,2009,2010,2011,2012,2013,2014                          |\n",
      "|dIIKEfOgo0KqUfGQvGikPg|4.09         |2007,2008,2009,2010,2011,2012,2013,2014,2015,2016,2017,2018,2019,20,20|\n",
      "|D6ErcUnFALnCQN4b1W_TlA|3.76         |2010,2011                                                             |\n",
      "|JnPIjvC0cmooNDfsa9BmXg|3.77         |2009,2010,2011,2012,2013,2014                                         |\n",
      "|37Hc8hr3cw0iHLoPzLK6Ow|3.72         |2009,2010,2011                                                        |\n",
      "|n-QwITZYrXlKQRiV30MqNg|3.59         |2010,2011,2012,2013,2014,2015,2016                                    |\n",
      "|eCJoZqpV1fDKJGAsXmWXqQ|3.86         |                                                                      |\n",
      "|cojecOwQJpsYDxnjtgzteQ|3.79         |2010,2011                                                             |\n",
      "|1jXmzuIFKxTnEnR0pxO0Hg|3.43         |2010,2011,2012,2013,2014,2015                                         |\n",
      "|-8QoOIfvwwxJ4sY201WP5A|3.88         |2012,2013,2014,2015,2016,2017,2018                                    |\n",
      "+----------------------+-------------+----------------------------------------------------------------------+\n",
      "only showing top 10 rows"
     ]
    }
   ],
   "source": [
    "# we can see that not all users are elite\n",
    "user.select(\"user_id\",\"average_stars\", \"elite\").show(10, truncate = False)"
   ]
  },
  {
   "cell_type": "markdown",
   "id": "e114b94a",
   "metadata": {},
   "source": [
    "### Labeling Users as Elite or Non-Elite"
   ]
  },
  {
   "cell_type": "code",
   "execution_count": 26,
   "id": "9bdeb51b",
   "metadata": {},
   "outputs": [
    {
     "data": {
      "application/vnd.jupyter.widget-view+json": {
       "model_id": "321ded72a0e045bd87d1b678edeb9e85",
       "version_major": 2,
       "version_minor": 0
      },
      "text/plain": [
       "VBox()"
      ]
     },
     "metadata": {},
     "output_type": "display_data"
    },
    {
     "data": {
      "application/vnd.jupyter.widget-view+json": {
       "model_id": "",
       "version_major": 2,
       "version_minor": 0
      },
      "text/plain": [
       "FloatProgress(value=0.0, bar_style='info', description='Progress:', layout=Layout(height='25px', width='50%'),…"
      ]
     },
     "metadata": {},
     "output_type": "display_data"
    }
   ],
   "source": [
    "#labeling users\n",
    "user_labeled = user.withColumn(\"elite_yes_no\", F.when(F.length(F.col(\"elite\")) != 0 , \"yes\")\n",
    "                        .when(F.length(F.col(\"elite\")) == 0 , \"no\")\n",
    "                              ).select(\"user_id\",\"name\",\"elite\",\"elite_yes_no\", \"average_stars\")"
   ]
  },
  {
   "cell_type": "code",
   "execution_count": 27,
   "id": "355728f2",
   "metadata": {},
   "outputs": [
    {
     "data": {
      "application/vnd.jupyter.widget-view+json": {
       "model_id": "7240b2cff6454dd7a2dccbd8d82f0dd9",
       "version_major": 2,
       "version_minor": 0
      },
      "text/plain": [
       "VBox()"
      ]
     },
     "metadata": {},
     "output_type": "display_data"
    },
    {
     "data": {
      "application/vnd.jupyter.widget-view+json": {
       "model_id": "",
       "version_major": 2,
       "version_minor": 0
      },
      "text/plain": [
       "FloatProgress(value=0.0, bar_style='info', description='Progress:', layout=Layout(height='25px', width='50%'),…"
      ]
     },
     "metadata": {},
     "output_type": "display_data"
    },
    {
     "name": "stdout",
     "output_type": "stream",
     "text": [
      "+--------------------+----------+--------------------+------------+-------------+\n",
      "|             user_id|      name|               elite|elite_yes_no|average_stars|\n",
      "+--------------------+----------+--------------------+------------+-------------+\n",
      "|q_QQ5kBBwlCcbL1s4...|      Jane|2006,2007,2008,20...|         yes|         3.85|\n",
      "|dIIKEfOgo0KqUfGQv...|      Gabi|2007,2008,2009,20...|         yes|         4.09|\n",
      "|D6ErcUnFALnCQN4b1...|     Jason|           2010,2011|         yes|         3.76|\n",
      "|JnPIjvC0cmooNDfsa...|       Kat|2009,2010,2011,20...|         yes|         3.77|\n",
      "|37Hc8hr3cw0iHLoPz...| Christine|      2009,2010,2011|         yes|         3.72|\n",
      "|n-QwITZYrXlKQRiV3...|   Natasha|2010,2011,2012,20...|         yes|         3.59|\n",
      "|eCJoZqpV1fDKJGAsX...|   Bridget|                    |          no|         3.86|\n",
      "|cojecOwQJpsYDxnjt...|    Steven|           2010,2011|         yes|         3.79|\n",
      "|1jXmzuIFKxTnEnR0p...|     Clara|2010,2011,2012,20...|         yes|         3.43|\n",
      "|-8QoOIfvwwxJ4sY20...|Antoinette|2012,2013,2014,20...|         yes|         3.88|\n",
      "|EtofuImujQBSo02xa...| Hollyanna|           2009,2010|         yes|         3.83|\n",
      "|cxS6dbjyPgPS1S890...|       Joe|                    |          no|         4.18|\n",
      "|MUzkXfPS9JaMgJ907...|     Damon|2010,2012,2013,20...|         yes|         4.16|\n",
      "|tjwblGkWN9m0vsGay...|       Ben|2010,2011,2012,20...|         yes|         3.66|\n",
      "|m-zIVssiXN4bnDFqM...|     Bryan|                    |          no|          4.5|\n",
      "|fxqvyXlml4400Bgls...|  Cristina|2011,2012,2013,20...|         yes|         3.65|\n",
      "|9edAbpniyhHFdpAvk...|      Cara| 2007,2008,2009,2010|         yes|         3.73|\n",
      "|wURnB9fRNGAli13yB...|    Jessie| 2009,2010,2011,2012|         yes|         3.75|\n",
      "|l4P65LXNBnJqI7oTX...|      Lisa|2008,2009,2010,20...|         yes|         3.93|\n",
      "|9RIXlhUb_xEVuc_o0...|     silly|                    |          no|         3.57|\n",
      "+--------------------+----------+--------------------+------------+-------------+\n",
      "only showing top 20 rows"
     ]
    }
   ],
   "source": [
    "user_labeled.show(20)"
   ]
  },
  {
   "cell_type": "code",
   "execution_count": 28,
   "id": "95f5eb54",
   "metadata": {},
   "outputs": [
    {
     "data": {
      "application/vnd.jupyter.widget-view+json": {
       "model_id": "c263a409638a40aaaaebd6b0f4e75717",
       "version_major": 2,
       "version_minor": 0
      },
      "text/plain": [
       "VBox()"
      ]
     },
     "metadata": {},
     "output_type": "display_data"
    },
    {
     "data": {
      "application/vnd.jupyter.widget-view+json": {
       "model_id": "",
       "version_major": 2,
       "version_minor": 0
      },
      "text/plain": [
       "FloatProgress(value=0.0, bar_style='info', description='Progress:', layout=Layout(height='25px', width='50%'),…"
      ]
     },
     "metadata": {},
     "output_type": "display_data"
    }
   ],
   "source": [
    "# renaming columns that match with column names of review data set\n",
    "user_labeled = user_labeled.withColumnRenamed(\"user_id\",\"user_user_id\")"
   ]
  },
  {
   "cell_type": "markdown",
   "id": "e3c37966",
   "metadata": {},
   "source": [
    "### Joining the Users Data with Review Data "
   ]
  },
  {
   "cell_type": "code",
   "execution_count": 29,
   "id": "4623e713",
   "metadata": {},
   "outputs": [
    {
     "data": {
      "application/vnd.jupyter.widget-view+json": {
       "model_id": "97f575b71e2742f6a754a586abb6da51",
       "version_major": 2,
       "version_minor": 0
      },
      "text/plain": [
       "VBox()"
      ]
     },
     "metadata": {},
     "output_type": "display_data"
    },
    {
     "data": {
      "application/vnd.jupyter.widget-view+json": {
       "model_id": "",
       "version_major": 2,
       "version_minor": 0
      },
      "text/plain": [
       "FloatProgress(value=0.0, bar_style='info', description='Progress:', layout=Layout(height='25px', width='50%'),…"
      ]
     },
     "metadata": {},
     "output_type": "display_data"
    },
    {
     "name": "stdout",
     "output_type": "stream",
     "text": [
      "+--------------------+-----------+\n",
      "|             user_id|sum(useful)|\n",
      "+--------------------+-----------+\n",
      "|YTu0c-1I9ECeksIgo...|      46163|\n",
      "|gqL5KBs2oS7qobnyd...|      39394|\n",
      "|AbMjnKOwg736fcIu8...|      25790|\n",
      "|JjXuiru1_ONzDkYVr...|      21342|\n",
      "|j14WgRoU_-2ZE1aw1...|      19241|\n",
      "|PI51J_fKhEfZKhi-M...|      18839|\n",
      "|Pf7FI0OukC_CEcCz0...|      16644|\n",
      "|921g0ra2_kwuW1Yo8...|      15903|\n",
      "|uAL9HaTJHKJVLOaTu...|      12957|\n",
      "|hWDybu_KvYLSdEFzG...|      12929|\n",
      "+--------------------+-----------+\n",
      "only showing top 10 rows"
     ]
    }
   ],
   "source": [
    "# taking sum of how many people found the reviews useful for each user from the review dataset\n",
    "grp_review_user = review.groupby(\"user_id\").sum(\"useful\")\n",
    "grp_review_user.orderBy(\"sum(useful)\", ascending=False).show(10)"
   ]
  },
  {
   "cell_type": "code",
   "execution_count": 30,
   "id": "e315605e",
   "metadata": {},
   "outputs": [
    {
     "data": {
      "application/vnd.jupyter.widget-view+json": {
       "model_id": "9abb93dfbf144fbe86801ba9ab30e3cb",
       "version_major": 2,
       "version_minor": 0
      },
      "text/plain": [
       "VBox()"
      ]
     },
     "metadata": {},
     "output_type": "display_data"
    },
    {
     "data": {
      "application/vnd.jupyter.widget-view+json": {
       "model_id": "",
       "version_major": 2,
       "version_minor": 0
      },
      "text/plain": [
       "FloatProgress(value=0.0, bar_style='info', description='Progress:', layout=Layout(height='25px', width='50%'),…"
      ]
     },
     "metadata": {},
     "output_type": "display_data"
    },
    {
     "name": "stdout",
     "output_type": "stream",
     "text": [
      "root\n",
      " |-- user_user_id: string (nullable = true)\n",
      " |-- name: string (nullable = true)\n",
      " |-- elite: string (nullable = true)\n",
      " |-- elite_yes_no: string (nullable = true)\n",
      " |-- average_stars: double (nullable = true)\n",
      " |-- user_id: string (nullable = true)\n",
      " |-- sum(useful): long (nullable = true)"
     ]
    }
   ],
   "source": [
    "# joining the filtered_user and grp_review_user dataframes\n",
    "merged_df2 = user_labeled.join(grp_review_user, user_labeled.user_user_id == grp_review_user.user_id)\n",
    "merged_df2.printSchema()"
   ]
  },
  {
   "cell_type": "code",
   "execution_count": 31,
   "id": "a8f5b55a",
   "metadata": {},
   "outputs": [
    {
     "data": {
      "application/vnd.jupyter.widget-view+json": {
       "model_id": "45b4f9826467420c9dcf38a2e3c0d3ba",
       "version_major": 2,
       "version_minor": 0
      },
      "text/plain": [
       "VBox()"
      ]
     },
     "metadata": {},
     "output_type": "display_data"
    },
    {
     "data": {
      "application/vnd.jupyter.widget-view+json": {
       "model_id": "",
       "version_major": 2,
       "version_minor": 0
      },
      "text/plain": [
       "FloatProgress(value=0.0, bar_style='info', description='Progress:', layout=Layout(height='25px', width='50%'),…"
      ]
     },
     "metadata": {},
     "output_type": "display_data"
    }
   ],
   "source": [
    "# removing the user_user_id -> same as user_id\n",
    "merged_df2 = merged_df2.drop(\"user_user_id\")"
   ]
  },
  {
   "cell_type": "code",
   "execution_count": 32,
   "id": "863cc772",
   "metadata": {},
   "outputs": [
    {
     "data": {
      "application/vnd.jupyter.widget-view+json": {
       "model_id": "caac4fbe19be4931b175e8c952f0347b",
       "version_major": 2,
       "version_minor": 0
      },
      "text/plain": [
       "VBox()"
      ]
     },
     "metadata": {},
     "output_type": "display_data"
    },
    {
     "data": {
      "application/vnd.jupyter.widget-view+json": {
       "model_id": "",
       "version_major": 2,
       "version_minor": 0
      },
      "text/plain": [
       "FloatProgress(value=0.0, bar_style='info', description='Progress:', layout=Layout(height='25px', width='50%'),…"
      ]
     },
     "metadata": {},
     "output_type": "display_data"
    },
    {
     "name": "stdout",
     "output_type": "stream",
     "text": [
      "+--------+--------------------+------------+-------------+--------------------+-----------+\n",
      "|    name|               elite|elite_yes_no|average_stars|             user_id|sum(useful)|\n",
      "+--------+--------------------+------------+-------------+--------------------+-----------+\n",
      "|   Laura|2017,2018,2019,20,20|         yes|         4.33|YTu0c-1I9ECeksIgo...|      46163|\n",
      "|   Stacy|2013,2014,2015,20...|         yes|          3.9|gqL5KBs2oS7qobnyd...|      39394|\n",
      "| Michael|2010,2011,2012,20...|         yes|         3.66|AbMjnKOwg736fcIu8...|      25790|\n",
      "| Richard|2011,2012,2013,20...|         yes|         4.15|JjXuiru1_ONzDkYVr...|      21342|\n",
      "|  Daniel|2009,2010,2011,20...|         yes|         3.73|j14WgRoU_-2ZE1aw1...|      19241|\n",
      "|   Errol|2009,2010,2011,20...|         yes|         4.13|PI51J_fKhEfZKhi-M...|      18839|\n",
      "|     Don|2007,2008,2009,20...|         yes|         3.93|Pf7FI0OukC_CEcCz0...|      16644|\n",
      "|Kimberly|2017,2018,2019,20,20|         yes|         4.53|921g0ra2_kwuW1Yo8...|      15903|\n",
      "|   Kerri|2012,2013,2014,20...|         yes|         4.25|uAL9HaTJHKJVLOaTu...|      12957|\n",
      "|   Bruce|2010,2011,2012,20...|         yes|         3.65|hWDybu_KvYLSdEFzG...|      12929|\n",
      "+--------+--------------------+------------+-------------+--------------------+-----------+\n",
      "only showing top 10 rows"
     ]
    }
   ],
   "source": [
    "merged_df2.orderBy(\"sum(useful)\", ascending=False).show(10)"
   ]
  },
  {
   "cell_type": "markdown",
   "id": "b7eaa679",
   "metadata": {},
   "source": [
    "### Boxplots: Usefulness and Average Star Ratings"
   ]
  },
  {
   "cell_type": "code",
   "execution_count": 33,
   "id": "8e6ead1a",
   "metadata": {},
   "outputs": [
    {
     "data": {
      "application/vnd.jupyter.widget-view+json": {
       "model_id": "28c014c272f24277a6343638dc5276d3",
       "version_major": 2,
       "version_minor": 0
      },
      "text/plain": [
       "VBox()"
      ]
     },
     "metadata": {},
     "output_type": "display_data"
    },
    {
     "data": {
      "application/vnd.jupyter.widget-view+json": {
       "model_id": "",
       "version_major": 2,
       "version_minor": 0
      },
      "text/plain": [
       "FloatProgress(value=0.0, bar_style='info', description='Progress:', layout=Layout(height='25px', width='50%'),…"
      ]
     },
     "metadata": {},
     "output_type": "display_data"
    },
    {
     "name": "stdout",
     "output_type": "stream",
     "text": [
      "     name elite  ...                 user_id  sum(useful)\n",
      "0   Shaun        ...  --1UpCuUDJQbqiuFXkOzaw            1\n",
      "1  George        ...  --3Bk72HakneTyp3DEjecg            0\n",
      "2   Rogan        ...  --3Hl2oAvTPlq-f7KtogJg            2\n",
      "3      Ty        ...  --5FEgQNB3_7WtjxkCsGqA            3\n",
      "4      Ma        ...  --DCpT4hVZNRpRx572pkEw            0\n",
      "\n",
      "[5 rows x 6 columns]"
     ]
    }
   ],
   "source": [
    "# transforming the above dataframe into pandas dataframe\n",
    "pdf_merged_df2 = merged_df2.toPandas()\n",
    "pdf_merged_df2.head()"
   ]
  },
  {
   "cell_type": "code",
   "execution_count": 35,
   "id": "d20c7856",
   "metadata": {},
   "outputs": [
    {
     "data": {
      "application/vnd.jupyter.widget-view+json": {
       "model_id": "8d56567fb64a45789159cca73ed6f1fd",
       "version_major": 2,
       "version_minor": 0
      },
      "text/plain": [
       "VBox()"
      ]
     },
     "metadata": {},
     "output_type": "display_data"
    },
    {
     "data": {
      "application/vnd.jupyter.widget-view+json": {
       "model_id": "",
       "version_major": 2,
       "version_minor": 0
      },
      "text/plain": [
       "FloatProgress(value=0.0, bar_style='info', description='Progress:', layout=Layout(height='25px', width='50%'),…"
      ]
     },
     "metadata": {},
     "output_type": "display_data"
    },
    {
     "data": {
      "image/png": "[encoded data removed]",
      "text/plain": [
       "<IPython.core.display.Image object>"
      ]
     },
     "metadata": {},
     "output_type": "display_data"
    }
   ],
   "source": [
    "plt.figure(figsize=(6,4))\n",
    "\n",
    "sns.boxplot(x = \"elite_yes_no\", y = \"sum(useful)\", data = pdf_merged_df2 )\n",
    "\n",
    "plt.xlabel(\"Is the user elite?\")\n",
    "plt.ylabel(\"Useful\")\n",
    "plt.title(\"How often were the reviews found useful?\")\n",
    "plt.show()\n",
    "# Clearly majority of the reviews from both elite and non-elite users are not useful;  min, median, max are close to zero. \n",
    "# However, as it can be seen from the outliers, more useful reviews come from elite users\n",
    "\n",
    "%matplot plt"
   ]
  },
  {
   "cell_type": "code",
   "execution_count": 36,
   "id": "cf8b7acc",
   "metadata": {},
   "outputs": [
    {
     "data": {
      "application/vnd.jupyter.widget-view+json": {
       "model_id": "01af7624c9ed4fe185cd8e1ce0ebac45",
       "version_major": 2,
       "version_minor": 0
      },
      "text/plain": [
       "VBox()"
      ]
     },
     "metadata": {},
     "output_type": "display_data"
    },
    {
     "data": {
      "application/vnd.jupyter.widget-view+json": {
       "model_id": "",
       "version_major": 2,
       "version_minor": 0
      },
      "text/plain": [
       "FloatProgress(value=0.0, bar_style='info', description='Progress:', layout=Layout(height='25px', width='50%'),…"
      ]
     },
     "metadata": {},
     "output_type": "display_data"
    },
    {
     "data": {
      "image/png": "[encoded data removed]",
      "text/plain": [
       "<IPython.core.display.Image object>"
      ]
     },
     "metadata": {},
     "output_type": "display_data"
    }
   ],
   "source": [
    "plt.figure(figsize=(6,4))\n",
    "\n",
    "sns.boxplot(x = \"elite_yes_no\", y = \"average_stars\", data = pdf_merged_df2, palette = ['y','r'] )\n",
    "plt.xlabel(\"Is the user elite?\")\n",
    "plt.ylabel(\"Average Stars\")\n",
    "plt.title(\"Average Stars by Elites VS. Non-Elites\")\n",
    "plt.show()\n",
    "# minimum value of average stars is much higher fo elite users; median and maximum very similar\n",
    "# there is less variability in average stars for elite users\n",
    "\n",
    "%matplot plt\n"
   ]
  },
  {
   "cell_type": "markdown",
   "id": "c930414f",
   "metadata": {},
   "source": [
    "## Conclusion"
   ]
  },
  {
   "cell_type": "markdown",
   "id": "5a74cd84",
   "metadata": {},
   "source": [
    "In this project, I analyzed Yelp's review, business and user datasets from Kaggle. The dataset was uploaded to AWS's S3. I used AWS'S EMR to run Jupyter notebook with PySpark kernel to analyze the data."
   ]
  }
 ],
 "metadata": {
  "kernelspec": {
   "display_name": "PySpark",
   "language": "",
   "name": "pysparkkernel"
  },
  "language_info": {
   "codemirror_mode": {
    "name": "python",
    "version": 2
   },
   "mimetype": "text/x-python",
   "name": "pyspark",
   "pygments_lexer": "python2"
  }
 },
 "nbformat": 4,
 "nbformat_minor": 5
}
